{
 "cells": [
  {
   "cell_type": "markdown",
   "id": "included-means",
   "metadata": {},
   "source": [
    "## 4-1 確率と統計を学ぶ準備"
   ]
  },
  {
   "cell_type": "code",
   "execution_count": 1,
   "id": "remarkable-speed",
   "metadata": {},
   "outputs": [],
   "source": [
    "# 以下のライブラリを使うのであらかじめ読み込んでおいて下さい\n",
    "import numpy as np\n",
    "import scipy as sp\n",
    "import pandas as pd\n",
    "from pandas import Series, DataFrame\n",
    "\n",
    "# 可視化ライブラリ\n",
    "import matplotlib.pyplot as plt\n",
    "import matplotlib as mpl\n",
    "import seaborn as sns\n",
    "%matplotlib inline\n",
    "\n",
    "# 少数第3位まで表示\n",
    "%precision 3\n",
    "\n",
    "# ランダムシードの固定\n",
    "np.random.seed(0)"
   ]
  },
  {
   "cell_type": "markdown",
   "id": "nonprofit-israeli",
   "metadata": {},
   "source": [
    "## 4-2 確率"
   ]
  },
  {
   "cell_type": "markdown",
   "id": "scheduled-christian",
   "metadata": {},
   "source": [
    "### 数学的確率"
   ]
  },
  {
   "cell_type": "code",
   "execution_count": 2,
   "id": "noted-bracelet",
   "metadata": {},
   "outputs": [],
   "source": [
    "# サイコロがとりうる値を配列に格納\n",
    "dice_data = np.array([1, 2, 3, 4, 5, 6])"
   ]
  },
  {
   "cell_type": "markdown",
   "id": "palestinian-uniform",
   "metadata": {},
   "source": [
    "### 事象"
   ]
  },
  {
   "cell_type": "code",
   "execution_count": 3,
   "id": "renewable-student",
   "metadata": {},
   "outputs": [
    {
     "name": "stdout",
     "output_type": "stream",
     "text": [
      "1つだけランダムに抽出:  [5]\n"
     ]
    }
   ],
   "source": [
    "# 引数は，対象データ dice_data から1つランダムに抽出するという意味\n",
    "print('1つだけランダムに抽出: ', np.random.choice(dice_data, 1))"
   ]
  },
  {
   "cell_type": "markdown",
   "id": "institutional-crest",
   "metadata": {},
   "source": [
    "### 統計的確率"
   ]
  },
  {
   "cell_type": "code",
   "execution_count": 4,
   "id": "systematic-baptist",
   "metadata": {},
   "outputs": [
    {
     "name": "stdout",
     "output_type": "stream",
     "text": [
      "1 が出る確率 0.171\n",
      "2 が出る確率 0.171\n",
      "3 が出る確率 0.171\n",
      "4 が出る確率 0.171\n",
      "5 が出る確率 0.171\n",
      "6 が出る確率 0.171\n"
     ]
    }
   ],
   "source": [
    "# サイコロを 1,000回振ってみる\n",
    "calc_steps = 1000\n",
    "\n",
    "# 1~6のデータの中から，1000回の抽出を実施\n",
    "dice_rolls = np.random.choice(dice_data, calc_steps)\n",
    "\n",
    "# それぞれの数字がどれくらいの割合で抽出されたか計算\n",
    "for i in range(1, 7): \n",
    "    p = len(dice_rolls[dice_rolls == 1]) / calc_steps\n",
    "    print(i, 'が出る確率', p)"
   ]
  },
  {
   "cell_type": "markdown",
   "id": "functional-accessory",
   "metadata": {},
   "source": [
    "### 練習問題 4-1"
   ]
  },
  {
   "cell_type": "code",
   "execution_count": null,
   "id": "precise-coast",
   "metadata": {},
   "outputs": [],
   "source": []
  },
  {
   "cell_type": "markdown",
   "id": "electrical-thing",
   "metadata": {},
   "source": [
    "### 練習問題 4-2"
   ]
  },
  {
   "cell_type": "code",
   "execution_count": null,
   "id": "collected-cover",
   "metadata": {},
   "outputs": [],
   "source": []
  },
  {
   "cell_type": "markdown",
   "id": "broke-snake",
   "metadata": {},
   "source": [
    "### 練習問題4-3"
   ]
  },
  {
   "cell_type": "code",
   "execution_count": null,
   "id": "italic-worry",
   "metadata": {},
   "outputs": [],
   "source": []
  },
  {
   "cell_type": "markdown",
   "id": "floral-today",
   "metadata": {},
   "source": [
    "## 4-3 確率変数と確率分布"
   ]
  },
  {
   "cell_type": "markdown",
   "id": "embedded-manufacturer",
   "metadata": {},
   "source": [
    "### 様々な分布関数"
   ]
  },
  {
   "cell_type": "markdown",
   "id": "allied-williams",
   "metadata": {},
   "source": [
    "### 一様分布"
   ]
  },
  {
   "cell_type": "code",
   "execution_count": 5,
   "id": "approximate-forward",
   "metadata": {},
   "outputs": [
    {
     "data": {
      "image/png": "[encoded data removed]",
      "text/plain": [
       "<Figure size 432x288 with 1 Axes>"
      ]
     },
     "metadata": {
      "needs_background": "light"
     },
     "output_type": "display_data"
    }
   ],
   "source": [
    "# 一様分布\n",
    "\n",
    "# サイコロがとりうる値を配列に格納\n",
    "dice_data = np.array([1, 2, 3, 4, 5, 6])\n",
    "\n",
    "# サイコロを1000回振ってみる\n",
    "calc_steps = 1000\n",
    "\n",
    "# 1?6のデータの中から，1000回の抽出を実施\n",
    "dice_rolls = np.random.choice(dice_data, calc_steps)\n",
    "\n",
    "# それぞれの数字がどれくらいの割合で抽出されたか計算\n",
    "prob_data = np.array([])\n",
    "for i in range(1, 7): \n",
    "    p = len(dice_rolls[dice_rolls==i]) / calc_steps\n",
    "    prob_data = np.append(prob_data, len(dice_rolls[dice_rolls==i]) / calc_steps)\n",
    "    \n",
    "plt.bar(dice_data, prob_data)\n",
    "plt.grid(True)"
   ]
  },
  {
   "cell_type": "markdown",
   "id": "fundamental-japan",
   "metadata": {},
   "source": [
    "### ベルヌーイ分布"
   ]
  },
  {
   "cell_type": "code",
   "execution_count": 6,
   "id": "attractive-return",
   "metadata": {},
   "outputs": [
    {
     "name": "stdout",
     "output_type": "stream",
     "text": [
      "0 が出る確率 0.625\n",
      "1 が出る確率 0.375\n"
     ]
    }
   ],
   "source": [
    "# ベルヌーイ分布\n",
    "# 0:head(表)，l:tail（裏）と考える\n",
    "# サンプル数を8とした\n",
    "prob_be_data = np.array([])\n",
    "coin_data = np.array([0, 0, 0, 0, 0, 1, 1, 1])\n",
    "\n",
    "# uniqueで一意な値を抽出（ここの場合は，0と1）\n",
    "for i in np.unique(coin_data): \n",
    "    p = len(coin_data[coin_data==i]) / len(coin_data)\n",
    "    print(i, 'が出る確率', p)\n",
    "    prob_be_data = np.append(prob_be_data, p)"
   ]
  },
  {
   "cell_type": "code",
   "execution_count": 7,
   "id": "quarterly-class",
   "metadata": {},
   "outputs": [
    {
     "data": {
      "image/png": "[encoded data removed]",
      "text/plain": [
       "<Figure size 432x288 with 1 Axes>"
      ]
     },
     "metadata": {
      "needs_background": "light"
     },
     "output_type": "display_data"
    }
   ],
   "source": [
    "plt.bar([0,1], prob_be_data, align = 'center')\n",
    "plt.xticks([0, 1], ['head', 'tail'])\n",
    "plt.grid(True)"
   ]
  },
  {
   "cell_type": "markdown",
   "id": "certified-supply",
   "metadata": {},
   "source": [
    "### 二項分布"
   ]
  },
  {
   "cell_type": "code",
   "execution_count": 8,
   "id": "norman-mississippi",
   "metadata": {},
   "outputs": [
    {
     "data": {
      "image/png": "[encoded data removed]",
      "text/plain": [
       "<Figure size 432x288 with 1 Axes>"
      ]
     },
     "metadata": {
      "needs_background": "light"
     },
     "output_type": "display_data"
    }
   ],
   "source": [
    "# 二項分布\n",
    "np.random.seed(0)\n",
    "x = np.random.binomial(30, 0.5, 1000) # (試行回数, 確率, サンプル数)\n",
    "plt.hist(x)\n",
    "plt.grid(True)"
   ]
  },
  {
   "cell_type": "markdown",
   "id": "excellent-tower",
   "metadata": {},
   "source": [
    "### ポアソン分布"
   ]
  },
  {
   "cell_type": "code",
   "execution_count": 9,
   "id": "former-divorce",
   "metadata": {},
   "outputs": [
    {
     "data": {
      "image/png": "[encoded data removed]",
      "text/plain": [
       "<Figure size 432x288 with 1 Axes>"
      ]
     },
     "metadata": {
      "needs_background": "light"
     },
     "output_type": "display_data"
    }
   ],
   "source": [
    "# ポアソン分布\n",
    "x = np.random.poisson(7, 1000) # (ある区間で事象が発生すると見込まれる回数, サンプル数)\n",
    "plt.hist(x)\n",
    "plt.grid(True)"
   ]
  },
  {
   "cell_type": "markdown",
   "id": "introductory-europe",
   "metadata": {},
   "source": [
    "### 正規分布と対数正規分布"
   ]
  },
  {
   "cell_type": "code",
   "execution_count": 10,
   "id": "bibliographic-photograph",
   "metadata": {},
   "outputs": [
    {
     "data": {
      "image/png": "[encoded data removed]",
      "text/plain": [
       "<Figure size 432x288 with 1 Axes>"
      ]
     },
     "metadata": {
      "needs_background": "light"
     },
     "output_type": "display_data"
    }
   ],
   "source": [
    "# 正規分布\n",
    "# np.random.normal(平均, 標準偏差, サンプル数)\n",
    "x = np.random.normal(5, 10, 1000)\n",
    "plt.hist(x)\n",
    "plt.grid(True)"
   ]
  },
  {
   "cell_type": "code",
   "execution_count": 11,
   "id": "foreign-string",
   "metadata": {},
   "outputs": [
    {
     "data": {
      "image/png": "[encoded data removed]",
      "text/plain": [
       "<Figure size 432x288 with 1 Axes>"
      ]
     },
     "metadata": {
      "needs_background": "light"
     },
     "output_type": "display_data"
    }
   ],
   "source": [
    "# 対数正規分布\n",
    "# np.random.lognormal(平均, 標準偏差, サンプル数)\n",
    "x = np.random.normal(30, 0.4, 1000)\n",
    "plt.hist(x)\n",
    "plt.grid(True)"
   ]
  },
  {
   "cell_type": "markdown",
   "id": "cleared-vaccine",
   "metadata": {},
   "source": [
    "### カーネル密度関数"
   ]
  },
  {
   "cell_type": "code",
   "execution_count": 12,
   "id": "charming-illness",
   "metadata": {},
   "outputs": [
    {
     "data": {
      "image/png": "[encoded data removed]",
      "text/plain": [
       "<Figure size 432x288 with 1 Axes>"
      ]
     },
     "metadata": {
      "needs_background": "light"
     },
     "output_type": "display_data"
    }
   ],
   "source": [
    "import requests\n",
    "import zipfile\n",
    "from io import StringIO\n",
    "import io\n",
    "\n",
    "zip_file_url = 'http://archive.ics.uci.edu/ml/machine-learning-databases/00356/student.zip'\n",
    "\n",
    "r = requests.get(zip_file_url, stream = True)\n",
    "z = zipfile.ZipFile(io.BytesIO(r.content))\n",
    "z.extractall()\n",
    "\n",
    "# データを読み込む\n",
    "student_data_math = pd.read_csv('student-mat.csv', sep = ';')\n",
    "\n",
    "# カーネル密度関数\n",
    "student_data_math.absences.plot(kind = 'kde', style = 'k--')\n",
    "\n",
    "# 単純なヒストグラム，density = Trueにすることで確率で表示\n",
    "student_data_math.absences.hist(density = True)\n",
    "plt.grid(True)\n",
    "\n",
    "\n",
    "#\n",
    "#\n",
    "#\n",
    "#\n",
    "\n",
    "#\n",
    "\n",
    "#r = requests.get(zip_file_url, stream = True)\n",
    "#z = zipfile.ZipFile(io.BytesIO(r.content))\n",
    "#z.extractall()\n",
    "\n",
    "# データを読み込む\n",
    "#student_data_math = pd.read_csv('student-mat.csv', sep=';')\n",
    "\n",
    "# カーネル密度関数\n",
    "#student_data_math.absences.plot(kind = 'kde', style = 'k--')\n",
    "\n",
    "# 単純なヒストグラム，density = Trueにすることで，確率で表示\n",
    "#student_data_math.absences.hist(density = True)\n",
    "#plt.grid(True)"
   ]
  },
  {
   "cell_type": "markdown",
   "id": "blocked-copper",
   "metadata": {},
   "source": [
    "### 練習問題 4-4"
   ]
  },
  {
   "cell_type": "code",
   "execution_count": null,
   "id": "infinite-hampton",
   "metadata": {},
   "outputs": [],
   "source": []
  },
  {
   "cell_type": "markdown",
   "id": "invalid-overview",
   "metadata": {},
   "source": [
    "### 練習問題 4-5"
   ]
  },
  {
   "cell_type": "code",
   "execution_count": null,
   "id": "polyphonic-aluminum",
   "metadata": {},
   "outputs": [],
   "source": []
  },
  {
   "cell_type": "markdown",
   "id": "union-paris",
   "metadata": {},
   "source": [
    "### 練習問題 4-6"
   ]
  },
  {
   "cell_type": "code",
   "execution_count": null,
   "id": "genuine-treasury",
   "metadata": {},
   "outputs": [],
   "source": []
  }
 ],
 "metadata": {
  "kernelspec": {
   "display_name": "Python 3",
   "language": "python",
   "name": "python3"
  },
  "language_info": {
   "codemirror_mode": {
    "name": "ipython",
    "version": 3
   },
   "file_extension": ".py",
   "mimetype": "text/x-python",
   "name": "python",
   "nbconvert_exporter": "python",
   "pygments_lexer": "ipython3",
   "version": "3.9.14"
  }
 },
 "nbformat": 4,
 "nbformat_minor": 5
}
