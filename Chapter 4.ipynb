{
 "cells": [
  {
   "cell_type": "code",
   "execution_count": 1,
   "metadata": {},
   "outputs": [],
   "source": [
    "# 以下のライブラリを使う\n",
    "import numpy as np\n",
    "import scipy as sp\n",
    "import pandas as pd\n",
    "from pandas import Series, DataFrame\n",
    "\n",
    "# 可視化ライブラリ\n",
    "import matplotlib.pyplot as plt\n",
    "import matplotlib as mpl\n",
    "import seaborn as sns\n",
    "%matplotlib inline\n",
    "\n",
    "# 小数点第3位まで表示\n",
    "%precision 3\n",
    "\n",
    "# ランダムシードの固定\n",
    "np.random.seed(0)"
   ]
  },
  {
   "cell_type": "code",
   "execution_count": 2,
   "metadata": {},
   "outputs": [],
   "source": [
    "# サイコロがとりうる値を配列に格納\n",
    "dice_data = np.array([1, 2, 3, 4, 5, 6])"
   ]
  },
  {
   "cell_type": "code",
   "execution_count": 3,
   "metadata": {},
   "outputs": [
    {
     "name": "stdout",
     "output_type": "stream",
     "text": [
      "1つだけランダムに抽出： [5]\n"
     ]
    }
   ],
   "source": [
    "# 引数は，対象データdice_dataから1つランダムに抽出するという意味\n",
    "print('1つだけランダムに抽出：', np.random.choice(dice_data, 1))"
   ]
  },
  {
   "cell_type": "markdown",
   "metadata": {},
   "source": [
    "# 統計的確率"
   ]
  },
  {
   "cell_type": "code",
   "execution_count": 4,
   "metadata": {},
   "outputs": [
    {
     "name": "stdout",
     "output_type": "stream",
     "text": [
      "1 が出る確率 0.171\n",
      "2 が出る確率 0.158\n",
      "3 が出る確率 0.157\n",
      "4 が出る確率 0.183\n",
      "5 が出る確率 0.16\n",
      "6 が出る確率 0.171\n"
     ]
    }
   ],
   "source": [
    "# サイコロを1000回振ってみる\n",
    "calc_steps = 1000\n",
    "\n",
    "# 1~6のデータの中から，1000かいの抽出を実施\n",
    "dice_rolls = np.random.choice(dice_data, calc_steps)\n",
    "\n",
    "# それぞれの数字がどれくらいの割合で抽出されたか計算\n",
    "for i in range(1, 7): \n",
    "    p = len(dice_rolls[dice_rolls == i]) / calc_steps\n",
    "    print(i, 'が出る確率', p)"
   ]
  },
  {
   "cell_type": "code",
   "execution_count": null,
   "metadata": {},
   "outputs": [],
   "source": []
  }
 ],
 "metadata": {
  "kernelspec": {
   "display_name": "Python 3",
   "language": "python",
   "name": "python3"
  },
  "language_info": {
   "codemirror_mode": {
    "name": "ipython",
    "version": 3
   },
   "file_extension": ".py",
   "mimetype": "text/x-python",
   "name": "python",
   "nbconvert_exporter": "python",
   "pygments_lexer": "ipython3",
   "version": "3.7.7"
  }
 },
 "nbformat": 4,
 "nbformat_minor": 4
}
