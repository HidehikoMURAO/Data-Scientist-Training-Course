{
 "cells": [
  {
   "cell_type": "markdown",
   "id": "a23f67c9",
   "metadata": {},
   "source": [
    "## 1-2-1 Jupyter Notebookの使い方"
   ]
  },
  {
   "cell_type": "code",
   "execution_count": 1,
   "id": "5a5d6e47",
   "metadata": {},
   "outputs": [
    {
     "name": "stdout",
     "output_type": "stream",
     "text": [
      "Hello, wprld !\n"
     ]
    }
   ],
   "source": [
    "print('Hello, wprld !')"
   ]
  },
  {
   "cell_type": "code",
   "execution_count": 2,
   "id": "a0b55e20",
   "metadata": {},
   "outputs": [
    {
     "name": "stdout",
     "output_type": "stream",
     "text": [
      "2\n",
      "10\n",
      "1000\n"
     ]
    }
   ],
   "source": [
    "# 足し算の例\n",
    "print(1 + 1)\n",
    "\n",
    "# 掛け算の例\n",
    "print(2 * 5)\n",
    "\n",
    "# 10の3乗，べき乗は**を使う\n",
    "print(10 ** 3)"
   ]
  },
  {
   "cell_type": "markdown",
   "id": "7d250f6f",
   "metadata": {},
   "source": [
    "## 1-2-2 Pythonの基礎"
   ]
  },
  {
   "cell_type": "code",
   "execution_count": 3,
   "id": "c2f57b90",
   "metadata": {},
   "outputs": [
    {
     "name": "stdout",
     "output_type": "stream",
     "text": [
      "test\n"
     ]
    }
   ],
   "source": [
    "msg = 'test'\n",
    "print(msg)"
   ]
  },
  {
   "cell_type": "code",
   "execution_count": 4,
   "id": "3358b7b5",
   "metadata": {},
   "outputs": [
    {
     "data": {
      "text/plain": [
       "'t'"
      ]
     },
     "execution_count": 4,
     "metadata": {},
     "output_type": "execute_result"
    }
   ],
   "source": [
    "# インデックス0から始まるので1文字目が取り出される\n",
    "msg[0]"
   ]
  },
  {
   "cell_type": "code",
   "execution_count": 5,
   "id": "3c52e912",
   "metadata": {},
   "outputs": [
    {
     "data": {
      "text/plain": [
       "'e'"
      ]
     },
     "execution_count": 5,
     "metadata": {},
     "output_type": "execute_result"
    }
   ],
   "source": [
    "# インデックス1を指定すると，2文字目が取り出される\n",
    "msg[1]"
   ]
  },
  {
   "cell_type": "code",
   "execution_count": 6,
   "id": "5b6690af",
   "metadata": {},
   "outputs": [
    {
     "ename": "IndexError",
     "evalue": "string index out of range",
     "output_type": "error",
     "traceback": [
      "\u001b[0;31m---------------------------------------------------------------------------\u001b[0m",
      "\u001b[0;31mIndexError\u001b[0m                                Traceback (most recent call last)",
      "\u001b[0;32m<ipython-input-6-a9d7ac4c73a1>\u001b[0m in \u001b[0;36m<module>\u001b[0;34m\u001b[0m\n\u001b[1;32m      1\u001b[0m \u001b[0;31m# 実行するとエラー\u001b[0m\u001b[0;34m\u001b[0m\u001b[0;34m\u001b[0m\u001b[0m\n\u001b[0;32m----> 2\u001b[0;31m \u001b[0mmsg\u001b[0m\u001b[0;34m[\u001b[0m\u001b[0;36m4\u001b[0m\u001b[0;34m]\u001b[0m\u001b[0;34m\u001b[0m\u001b[0;34m\u001b[0m\u001b[0m\n\u001b[0m",
      "\u001b[0;31mIndexError\u001b[0m: string index out of range"
     ]
    }
   ],
   "source": [
    "# 実行するとエラー\n",
    "msg[4]"
   ]
  },
  {
   "cell_type": "code",
   "execution_count": 7,
   "id": "5b213306",
   "metadata": {},
   "outputs": [
    {
     "name": "stdout",
     "output_type": "stream",
     "text": [
      "1\n",
      "11\n"
     ]
    }
   ],
   "source": [
    "# 変数dataにデータ1を割り当て\n",
    "data = 1\n",
    "print(data)\n",
    "\n",
    "# 上の数字に10を足す\n",
    "data = data + 10\n",
    "print(data)"
   ]
  },
  {
   "cell_type": "code",
   "execution_count": 8,
   "id": "17c1463e",
   "metadata": {},
   "outputs": [
    {
     "data": {
      "text/plain": [
       "['False',\n",
       " 'None',\n",
       " 'True',\n",
       " '__peg_parser__',\n",
       " 'and',\n",
       " 'as',\n",
       " 'assert',\n",
       " 'async',\n",
       " 'await',\n",
       " 'break',\n",
       " 'class',\n",
       " 'continue',\n",
       " 'def',\n",
       " 'del',\n",
       " 'elif',\n",
       " 'else',\n",
       " 'except',\n",
       " 'finally',\n",
       " 'for',\n",
       " 'from',\n",
       " 'global',\n",
       " 'if',\n",
       " 'import',\n",
       " 'in',\n",
       " 'is',\n",
       " 'lambda',\n",
       " 'nonlocal',\n",
       " 'not',\n",
       " 'or',\n",
       " 'pass',\n",
       " 'raise',\n",
       " 'return',\n",
       " 'try',\n",
       " 'while',\n",
       " 'with',\n",
       " 'yield']"
      ]
     },
     "execution_count": 8,
     "metadata": {},
     "output_type": "execute_result"
    }
   ],
   "source": [
    "# 予約語を表示するコマンド\n",
    "__import__('keyword').kwlist"
   ]
  },
  {
   "cell_type": "code",
   "execution_count": 9,
   "id": "bb2c7d48",
   "metadata": {},
   "outputs": [
    {
     "data": {
      "text/plain": [
       "['ArithmeticError',\n",
       " 'AssertionError',\n",
       " 'AttributeError',\n",
       " 'BaseException',\n",
       " 'BlockingIOError',\n",
       " 'BrokenPipeError',\n",
       " 'BufferError',\n",
       " 'BytesWarning',\n",
       " 'ChildProcessError',\n",
       " 'ConnectionAbortedError',\n",
       " 'ConnectionError',\n",
       " 'ConnectionRefusedError',\n",
       " 'ConnectionResetError',\n",
       " 'DeprecationWarning',\n",
       " 'EOFError',\n",
       " 'Ellipsis',\n",
       " 'EnvironmentError',\n",
       " 'Exception',\n",
       " 'False',\n",
       " 'FileExistsError',\n",
       " 'FileNotFoundError',\n",
       " 'FloatingPointError',\n",
       " 'FutureWarning',\n",
       " 'GeneratorExit',\n",
       " 'IOError',\n",
       " 'ImportError',\n",
       " 'ImportWarning',\n",
       " 'IndentationError',\n",
       " 'IndexError',\n",
       " 'InterruptedError',\n",
       " 'IsADirectoryError',\n",
       " 'KeyError',\n",
       " 'KeyboardInterrupt',\n",
       " 'LookupError',\n",
       " 'MemoryError',\n",
       " 'ModuleNotFoundError',\n",
       " 'NameError',\n",
       " 'None',\n",
       " 'NotADirectoryError',\n",
       " 'NotImplemented',\n",
       " 'NotImplementedError',\n",
       " 'OSError',\n",
       " 'OverflowError',\n",
       " 'PendingDeprecationWarning',\n",
       " 'PermissionError',\n",
       " 'ProcessLookupError',\n",
       " 'RecursionError',\n",
       " 'ReferenceError',\n",
       " 'ResourceWarning',\n",
       " 'RuntimeError',\n",
       " 'RuntimeWarning',\n",
       " 'StopAsyncIteration',\n",
       " 'StopIteration',\n",
       " 'SyntaxError',\n",
       " 'SyntaxWarning',\n",
       " 'SystemError',\n",
       " 'SystemExit',\n",
       " 'TabError',\n",
       " 'TimeoutError',\n",
       " 'True',\n",
       " 'TypeError',\n",
       " 'UnboundLocalError',\n",
       " 'UnicodeDecodeError',\n",
       " 'UnicodeEncodeError',\n",
       " 'UnicodeError',\n",
       " 'UnicodeTranslateError',\n",
       " 'UnicodeWarning',\n",
       " 'UserWarning',\n",
       " 'ValueError',\n",
       " 'Warning',\n",
       " 'ZeroDivisionError',\n",
       " '__IPYTHON__',\n",
       " '__build_class__',\n",
       " '__debug__',\n",
       " '__doc__',\n",
       " '__import__',\n",
       " '__loader__',\n",
       " '__name__',\n",
       " '__package__',\n",
       " '__spec__',\n",
       " 'abs',\n",
       " 'all',\n",
       " 'any',\n",
       " 'ascii',\n",
       " 'bin',\n",
       " 'bool',\n",
       " 'breakpoint',\n",
       " 'bytearray',\n",
       " 'bytes',\n",
       " 'callable',\n",
       " 'chr',\n",
       " 'classmethod',\n",
       " 'compile',\n",
       " 'complex',\n",
       " 'copyright',\n",
       " 'credits',\n",
       " 'delattr',\n",
       " 'dict',\n",
       " 'dir',\n",
       " 'display',\n",
       " 'divmod',\n",
       " 'enumerate',\n",
       " 'eval',\n",
       " 'exec',\n",
       " 'filter',\n",
       " 'float',\n",
       " 'format',\n",
       " 'frozenset',\n",
       " 'get_ipython',\n",
       " 'getattr',\n",
       " 'globals',\n",
       " 'hasattr',\n",
       " 'hash',\n",
       " 'help',\n",
       " 'hex',\n",
       " 'id',\n",
       " 'input',\n",
       " 'int',\n",
       " 'isinstance',\n",
       " 'issubclass',\n",
       " 'iter',\n",
       " 'len',\n",
       " 'license',\n",
       " 'list',\n",
       " 'locals',\n",
       " 'map',\n",
       " 'max',\n",
       " 'memoryview',\n",
       " 'min',\n",
       " 'next',\n",
       " 'object',\n",
       " 'oct',\n",
       " 'open',\n",
       " 'ord',\n",
       " 'pow',\n",
       " 'print',\n",
       " 'property',\n",
       " 'range',\n",
       " 'repr',\n",
       " 'reversed',\n",
       " 'round',\n",
       " 'set',\n",
       " 'setattr',\n",
       " 'slice',\n",
       " 'sorted',\n",
       " 'staticmethod',\n",
       " 'str',\n",
       " 'sum',\n",
       " 'super',\n",
       " 'tuple',\n",
       " 'type',\n",
       " 'vars',\n",
       " 'zip']"
      ]
     },
     "execution_count": 9,
     "metadata": {},
     "output_type": "execute_result"
    }
   ],
   "source": [
    "# 組み込み関数を表示するコマンド\n",
    "dir(__builtins__)"
   ]
  },
  {
   "cell_type": "markdown",
   "id": "434a4179",
   "metadata": {},
   "source": [
    "## 1-2-3 リストと辞書型"
   ]
  },
  {
   "cell_type": "code",
   "execution_count": 10,
   "id": "0a31fc92",
   "metadata": {},
   "outputs": [
    {
     "name": "stdout",
     "output_type": "stream",
     "text": [
      "[1, 2, 3, 4, 5, 6, 7, 8, 9, 10]\n",
      "変数のタイプ:  <class 'list'>\n",
      "2番目の数:  2\n",
      "要素数:  10\n"
     ]
    }
   ],
   "source": [
    "# リストを作る\n",
    "data_list = [1, 2, 3, 4, 5, 6, 7, 8, 9, 10]\n",
    "print(data_list)\n",
    "\n",
    "# typeで変数のタイプがわかる\n",
    "print('変数のタイプ: ', type(data_list))\n",
    "\n",
    "# 1つの要素を取り出す．0から始まるので，[1]は2番目になる．\n",
    "print('2番目の数: ', data_list[1])\n",
    "\n",
    "# len関数で要素の数を出力．ここでは1から10までの10個なので，結果は10\n",
    "print('要素数: ', len(data_list))"
   ]
  },
  {
   "cell_type": "code",
   "execution_count": 11,
   "id": "impressed-killer",
   "metadata": {},
   "outputs": [
    {
     "data": {
      "text/plain": [
       "[1, 2, 3, 4, 5, 6, 7, 8, 9, 10, 1, 2, 3, 4, 5, 6, 7, 8, 9, 10]"
      ]
     },
     "execution_count": 11,
     "metadata": {},
     "output_type": "execute_result"
    }
   ],
   "source": [
    "# リスト自体が2倍になる（リスト全体が繰り返される）\n",
    "data_list * 2"
   ]
  },
  {
   "cell_type": "code",
   "execution_count": 12,
   "id": "talented-uniform",
   "metadata": {},
   "outputs": [
    {
     "name": "stdout",
     "output_type": "stream",
     "text": [
      "[1, 2, 3, 4, 5, 6, 7, 8, 9, 10, 11]\n",
      "[1, 2, 3, 4, 5, 6, 7, 8, 9, 10]\n"
     ]
    }
   ],
   "source": [
    "# リストに要素を追加する\n",
    "data_list.append(11)\n",
    "print(data_list)\n",
    "\n",
    "# リストから要素を削除する\n",
    "del data_list[10]\n",
    "print(data_list)"
   ]
  },
  {
   "cell_type": "code",
   "execution_count": 13,
   "id": "surprising-assembly",
   "metadata": {},
   "outputs": [
    {
     "name": "stdout",
     "output_type": "stream",
     "text": [
      "500\n"
     ]
    }
   ],
   "source": [
    "# 辞書型\n",
    "dic_data = {'apple': 100, 'banana': 100, 'orange': 300, 'mango': 400, 'melon': 500}\n",
    "print(dic_data['melon'])"
   ]
  },
  {
   "cell_type": "code",
   "execution_count": 14,
   "id": "tamil-paraguay",
   "metadata": {},
   "outputs": [
    {
     "name": "stdout",
     "output_type": "stream",
     "text": [
      "300\n"
     ]
    }
   ],
   "source": [
    "print(dic_data['orange'])"
   ]
  },
  {
   "cell_type": "code",
   "execution_count": 15,
   "id": "remarkable-princeton",
   "metadata": {},
   "outputs": [
    {
     "name": "stdout",
     "output_type": "stream",
     "text": [
      "400\n"
     ]
    }
   ],
   "source": [
    "print(dic_data['apple'] + dic_data['orange'])"
   ]
  },
  {
   "cell_type": "code",
   "execution_count": 16,
   "id": "external-portsmouth",
   "metadata": {},
   "outputs": [
    {
     "name": "stdout",
     "output_type": "stream",
     "text": [
      "{'apple': 100, 'banana': 100, 'orange': 300, 'mango': 400, 'melon': 500, 'peach': 700}\n"
     ]
    }
   ],
   "source": [
    "# 辞書データの要素を追加する\n",
    "dic_data['peach'] = 700\n",
    "\n",
    "print(dic_data)"
   ]
  },
  {
   "cell_type": "code",
   "execution_count": 17,
   "id": "sonic-rebecca",
   "metadata": {},
   "outputs": [
    {
     "name": "stdout",
     "output_type": "stream",
     "text": [
      "{'apple': 100, 'banana': 100, 'orange': 300, 'mango': 400, 'melon': 500}\n"
     ]
    }
   ],
   "source": [
    "# 辞書データの要素を削除する\n",
    "del dic_data['peach']\n",
    "\n",
    "print(dic_data)"
   ]
  },
  {
   "cell_type": "markdown",
   "id": "dietary-input",
   "metadata": {},
   "source": [
    "## 1-2-4 条件分岐とループ"
   ]
  },
  {
   "cell_type": "code",
   "execution_count": 18,
   "id": "controlled-maria",
   "metadata": {},
   "outputs": [
    {
     "data": {
      "text/plain": [
       "True"
      ]
     },
     "execution_count": 18,
     "metadata": {},
     "output_type": "execute_result"
    }
   ],
   "source": [
    "1 == 1"
   ]
  },
  {
   "cell_type": "code",
   "execution_count": 19,
   "id": "killing-documentary",
   "metadata": {},
   "outputs": [
    {
     "data": {
      "text/plain": [
       "False"
      ]
     },
     "execution_count": 19,
     "metadata": {},
     "output_type": "execute_result"
    }
   ],
   "source": [
    "1 == 2"
   ]
  },
  {
   "cell_type": "code",
   "execution_count": 20,
   "id": "stone-pierre",
   "metadata": {},
   "outputs": [
    {
     "data": {
      "text/plain": [
       "True"
      ]
     },
     "execution_count": 20,
     "metadata": {},
     "output_type": "execute_result"
    }
   ],
   "source": [
    "# != は等しくないという意味\n",
    "1 != 2"
   ]
  },
  {
   "cell_type": "code",
   "execution_count": 21,
   "id": "nuclear-finish",
   "metadata": {},
   "outputs": [
    {
     "data": {
      "text/plain": [
       "True"
      ]
     },
     "execution_count": 21,
     "metadata": {},
     "output_type": "execute_result"
    }
   ],
   "source": [
    "1 > 0"
   ]
  },
  {
   "cell_type": "code",
   "execution_count": 22,
   "id": "yellow-beach",
   "metadata": {},
   "outputs": [
    {
     "data": {
      "text/plain": [
       "False"
      ]
     },
     "execution_count": 22,
     "metadata": {},
     "output_type": "execute_result"
    }
   ],
   "source": [
    "1 > 2"
   ]
  },
  {
   "cell_type": "code",
   "execution_count": 23,
   "id": "adopted-recognition",
   "metadata": {},
   "outputs": [
    {
     "data": {
      "text/plain": [
       "True"
      ]
     },
     "execution_count": 23,
     "metadata": {},
     "output_type": "execute_result"
    }
   ],
   "source": [
    "(1 > 0) and (10 > 5)"
   ]
  },
  {
   "cell_type": "code",
   "execution_count": 24,
   "id": "foster-proceeding",
   "metadata": {},
   "outputs": [
    {
     "data": {
      "text/plain": [
       "True"
      ]
     },
     "execution_count": 24,
     "metadata": {},
     "output_type": "execute_result"
    }
   ],
   "source": [
    "#どちらかが成り立っていれば真\n",
    "(1 < 0) or (10 > 5)"
   ]
  },
  {
   "cell_type": "code",
   "execution_count": 25,
   "id": "designing-approval",
   "metadata": {},
   "outputs": [
    {
     "data": {
      "text/plain": [
       "True"
      ]
     },
     "execution_count": 25,
     "metadata": {},
     "output_type": "execute_result"
    }
   ],
   "source": [
    "# notは真偽を逆にする\n",
    "not(1 < 0)"
   ]
  },
  {
   "cell_type": "markdown",
   "id": "ca850d66",
   "metadata": {},
   "source": [
    "### if文"
   ]
  },
  {
   "cell_type": "code",
   "execution_count": 26,
   "id": "ready-custody",
   "metadata": {},
   "outputs": [
    {
     "name": "stdout",
     "output_type": "stream",
     "text": [
      "[1, 2, 3, 4, 5, 6, 7, 8, 9, 10]\n",
      "5は入っています．\n",
      "ここから先はif文と関係なく，必ず表示されます\n"
     ]
    }
   ],
   "source": [
    "# まずはリストの表示\n",
    "print(data_list)\n",
    "\n",
    "findvalue = 5\n",
    "\n",
    "# if文の開始\n",
    "if findvalue in data_list: \n",
    "    # 条件式の結果が真の場合\n",
    "    print('{0}は入っています．'.format(findvalue)) # 文字列フォーマット\n",
    "else: \n",
    "    # 条件式の結果が偽の場合\n",
    "    print('{0}は入っていません．'.format(findvalue))\n",
    "# ここでif文は終わり\n",
    "\n",
    "# 以下はif文とは別の処理\n",
    "print('ここから先はif文と関係なく，必ず表示されます')"
   ]
  },
  {
   "cell_type": "code",
   "execution_count": 27,
   "id": "eligible-white",
   "metadata": {},
   "outputs": [
    {
     "name": "stdout",
     "output_type": "stream",
     "text": [
      "2 と 3 を足すと 5 です\n"
     ]
    }
   ],
   "source": [
    "# 文字列フォーマット（format記法）\n",
    "print('{0} と {1} を足すと {2} です'.format(2, 3, 5))"
   ]
  },
  {
   "cell_type": "markdown",
   "id": "0ff771c7",
   "metadata": {},
   "source": [
    "### for文"
   ]
  },
  {
   "cell_type": "code",
   "execution_count": 28,
   "id": "varying-gathering",
   "metadata": {},
   "outputs": [
    {
     "name": "stdout",
     "output_type": "stream",
     "text": [
      "num:  1\n",
      "num:  2\n",
      "num:  3\n",
      "total:  6\n"
     ]
    }
   ],
   "source": [
    "# 初期値の設定\n",
    "total = 0\n",
    "\n",
    "# for文\n",
    "for num in [1, 2, 3]:\n",
    "    # 取り出した数の表示\n",
    "    print('num: ', num)\n",
    "    # 今まで取り出した数の合計\n",
    "    total = total + num\n",
    "    \n",
    "# 最後に合計を表示\n",
    "print('total: ', total)"
   ]
  },
  {
   "cell_type": "code",
   "execution_count": 29,
   "id": "ed34d340",
   "metadata": {},
   "outputs": [
    {
     "name": "stdout",
     "output_type": "stream",
     "text": [
      "apple 100\n",
      "banana 100\n",
      "orange 300\n",
      "mango 400\n",
      "melon 500\n"
     ]
    }
   ],
   "source": [
    "for dic_key in dic_data: # Ref. In[13]\n",
    "    print(dic_key, dic_data[dic_key])"
   ]
  },
  {
   "cell_type": "markdown",
   "id": "e14756f8",
   "metadata": {},
   "source": [
    "### range関数を使った繰り返しリストの指定"
   ]
  },
  {
   "cell_type": "code",
   "execution_count": 30,
   "id": "db2ba81d",
   "metadata": {},
   "outputs": [
    {
     "name": "stdout",
     "output_type": "stream",
     "text": [
      "0\n",
      "1\n",
      "2\n",
      "3\n",
      "4\n",
      "5\n",
      "6\n",
      "7\n",
      "8\n",
      "9\n",
      "10\n"
     ]
    }
   ],
   "source": [
    "# range(N)としたときの0からN-1までの整数\n",
    "for i in range(11): \n",
    "    print(i)"
   ]
  },
  {
   "cell_type": "code",
   "execution_count": 31,
   "id": "aaf024eb",
   "metadata": {},
   "outputs": [
    {
     "name": "stdout",
     "output_type": "stream",
     "text": [
      "1\n",
      "3\n",
      "5\n",
      "7\n",
      "9\n"
     ]
    }
   ],
   "source": [
    "# range(1, 11, 2)は1から開始して2つ飛ばしで，11の手前まで取り出す\n",
    "for i in range(1, 11, 2): \n",
    "    print(i)"
   ]
  },
  {
   "cell_type": "markdown",
   "id": "7ec082fe",
   "metadata": {},
   "source": [
    "### 複雑なfor文と内包表現"
   ]
  },
  {
   "cell_type": "code",
   "execution_count": 32,
   "id": "0e8b02df",
   "metadata": {},
   "outputs": [
    {
     "name": "stdout",
     "output_type": "stream",
     "text": [
      "apple 100\n",
      "banana 100\n",
      "orange 300\n",
      "mango 400\n",
      "melon 500\n"
     ]
    }
   ],
   "source": [
    "# キーと値を取り出して表示する \n",
    "for key, value in dic_data.items(): # Ref. In[13]\n",
    "    print(key, value)"
   ]
  },
  {
   "cell_type": "code",
   "execution_count": 33,
   "id": "68977f1c",
   "metadata": {},
   "outputs": [
    {
     "name": "stdout",
     "output_type": "stream",
     "text": [
      "[1, 2, 3, 4, 5, 6, 7, 8, 9, 10]\n",
      "[2, 4, 6, 8, 10, 12, 14, 16, 18, 20]\n"
     ]
    }
   ],
   "source": [
    "# 空のリストを作成\n",
    "data_list1 = []\n",
    "\n",
    "# 内包表記，data_listから1つ1つ要素を取り出し，2倍した数字を新たな要素とするリストを作成\n",
    "data_list1 = [i * 2 for i in data_list] # Ref. In[10]\n",
    "print(data_list)\n",
    "print(data_list1)"
   ]
  },
  {
   "cell_type": "code",
   "execution_count": 34,
   "id": "df792d96",
   "metadata": {},
   "outputs": [
    {
     "data": {
      "text/plain": [
       "[4, 8, 12, 16, 20]"
      ]
     },
     "execution_count": 34,
     "metadata": {},
     "output_type": "execute_result"
    }
   ],
   "source": [
    "[i * 2 for i in data_list if i % 2 == 0] # Even"
   ]
  },
  {
   "cell_type": "markdown",
   "id": "87defc9d",
   "metadata": {},
   "source": [
    "### zip関数"
   ]
  },
  {
   "cell_type": "code",
   "execution_count": 35,
   "id": "9fe3add9",
   "metadata": {},
   "outputs": [
    {
     "name": "stdout",
     "output_type": "stream",
     "text": [
      "1 と 11\n",
      "2 と 12\n",
      "3 と 13\n"
     ]
    }
   ],
   "source": [
    "for one, two in zip([1, 2, 3], [11, 12, 13]): \n",
    "    print(one, 'と', two)"
   ]
  },
  {
   "cell_type": "markdown",
   "id": "1a621681",
   "metadata": {},
   "source": [
    "### while文を使った繰り返し処理"
   ]
  },
  {
   "cell_type": "code",
   "execution_count": 36,
   "id": "c46f2532",
   "metadata": {},
   "outputs": [
    {
     "name": "stdout",
     "output_type": "stream",
     "text": [
      "1\n",
      "2\n",
      "3\n",
      "4\n",
      "5\n",
      "6\n",
      "7\n",
      "8\n",
      "9\n",
      "10\n",
      "最後の値は11です\n"
     ]
    }
   ],
   "source": [
    "# 初期値の設定\n",
    "num = 1\n",
    "\n",
    "# while文の開始\n",
    "while num <= 10: \n",
    "    print(num)\n",
    "    num = num + 1\n",
    "# while文の終わり\n",
    "\n",
    "# 最後に代入された値を表示する\n",
    "print('最後の値は{0}です'.format(num))"
   ]
  },
  {
   "cell_type": "markdown",
   "id": "824f56a4",
   "metadata": {},
   "source": [
    "## 1-2-5 関数"
   ]
  },
  {
   "cell_type": "markdown",
   "id": "99880120",
   "metadata": {},
   "source": [
    "### 関数の基本"
   ]
  },
  {
   "cell_type": "code",
   "execution_count": 37,
   "id": "198d93c7",
   "metadata": {},
   "outputs": [],
   "source": [
    "# 掛け算をする関数\n",
    "def calc_multi(a, b): \n",
    "    return a * b"
   ]
  },
  {
   "cell_type": "code",
   "execution_count": 38,
   "id": "2dba4b4c",
   "metadata": {},
   "outputs": [
    {
     "data": {
      "text/plain": [
       "30"
      ]
     },
     "execution_count": 38,
     "metadata": {},
     "output_type": "execute_result"
    }
   ],
   "source": [
    "calc_multi(3, 10)"
   ]
  },
  {
   "cell_type": "code",
   "execution_count": 39,
   "id": "61f02642",
   "metadata": {},
   "outputs": [],
   "source": [
    "def calc_print(): \n",
    "    print('printのサンプル関数')"
   ]
  },
  {
   "cell_type": "code",
   "execution_count": 40,
   "id": "12270455",
   "metadata": {},
   "outputs": [
    {
     "name": "stdout",
     "output_type": "stream",
     "text": [
      "printのサンプル関数\n"
     ]
    }
   ],
   "source": [
    "calc_print()"
   ]
  },
  {
   "cell_type": "code",
   "execution_count": 41,
   "id": "178d3c53",
   "metadata": {},
   "outputs": [],
   "source": [
    "# 再起関数の例（フィボナッチ数）\n",
    "def calc_fib(n): \n",
    "    if n == 1 or n == 2: \n",
    "        return 1\n",
    "    else: \n",
    "        return calc_fib(n - 1) + calc_fib(n - 2)"
   ]
  },
  {
   "cell_type": "code",
   "execution_count": 42,
   "id": "b6be8134",
   "metadata": {},
   "outputs": [
    {
     "name": "stdout",
     "output_type": "stream",
     "text": [
      "フィボナッチ数:  55\n"
     ]
    }
   ],
   "source": [
    "print('フィボナッチ数: ', calc_fib(10))"
   ]
  },
  {
   "cell_type": "markdown",
   "id": "05c711bf",
   "metadata": {},
   "source": [
    "### 無名関数とmap"
   ]
  },
  {
   "cell_type": "code",
   "execution_count": 43,
   "id": "1302a42a",
   "metadata": {},
   "outputs": [
    {
     "data": {
      "text/plain": [
       "30"
      ]
     },
     "execution_count": 43,
     "metadata": {},
     "output_type": "execute_result"
    }
   ],
   "source": [
    "# calc_multi関数を定義\n",
    "def calc_multi(a, b):\n",
    "    return a * b\n",
    "\n",
    "# 実行\n",
    "calc_multi(3, 10)"
   ]
  },
  {
   "cell_type": "code",
   "execution_count": 44,
   "id": "solved-belgium",
   "metadata": {},
   "outputs": [
    {
     "data": {
      "text/plain": [
       "30"
      ]
     },
     "execution_count": 44,
     "metadata": {},
     "output_type": "execute_result"
    }
   ],
   "source": [
    "(lambda a, b: a * b)(3, 10)"
   ]
  },
  {
   "cell_type": "code",
   "execution_count": 45,
   "id": "buried-bruce",
   "metadata": {},
   "outputs": [],
   "source": [
    "def calc_double(x): \n",
    "    return x * 2"
   ]
  },
  {
   "cell_type": "code",
   "execution_count": 46,
   "id": "satisfied-alarm",
   "metadata": {},
   "outputs": [
    {
     "name": "stdout",
     "output_type": "stream",
     "text": [
      "2\n",
      "4\n",
      "6\n",
      "8\n"
     ]
    }
   ],
   "source": [
    "for num in [1, 2, 3, 4]: \n",
    "    print(calc_double(num))"
   ]
  },
  {
   "cell_type": "code",
   "execution_count": 47,
   "id": "complicated-saying",
   "metadata": {},
   "outputs": [
    {
     "data": {
      "text/plain": [
       "[2, 4, 6, 8]"
      ]
     },
     "execution_count": 47,
     "metadata": {},
     "output_type": "execute_result"
    }
   ],
   "source": [
    "list(map(calc_double, [1, 2, 3, 4]))"
   ]
  },
  {
   "cell_type": "code",
   "execution_count": 48,
   "id": "likely-proposition",
   "metadata": {},
   "outputs": [
    {
     "data": {
      "text/plain": [
       "[2, 4, 6, 8]"
      ]
     },
     "execution_count": 48,
     "metadata": {},
     "output_type": "execute_result"
    }
   ],
   "source": [
    "list(map(lambda x: x * 2, [1, 2, 3, 4]))"
   ]
  },
  {
   "cell_type": "markdown",
   "id": "continuous-edmonton",
   "metadata": {},
   "source": [
    "### 練習問題 1-1"
   ]
  },
  {
   "cell_type": "code",
   "execution_count": 49,
   "id": "drawn-iraqi",
   "metadata": {},
   "outputs": [
    {
     "name": "stdout",
     "output_type": "stream",
     "text": [
      "D\n",
      "a\n",
      "t\n",
      "a\n",
      " \n",
      "S\n",
      "c\n",
      "i\n",
      "e\n",
      "n\n",
      "c\n",
      "e\n"
     ]
    }
   ],
   "source": [
    "sampl_str = 'Data Science'\n",
    "\n",
    "for i in range(0, len(sampl_str)):\n",
    "    print(sampl_str[i])"
   ]
  },
  {
   "cell_type": "code",
   "execution_count": 50,
   "id": "revised-profile",
   "metadata": {},
   "outputs": [
    {
     "name": "stdout",
     "output_type": "stream",
     "text": [
      "D\n",
      "a\n",
      "t\n",
      "a\n",
      " \n",
      "S\n",
      "c\n",
      "i\n",
      "e\n",
      "n\n",
      "c\n",
      "e\n"
     ]
    }
   ],
   "source": [
    "for i in sampl_str:\n",
    "    print(i)"
   ]
  },
  {
   "cell_type": "code",
   "execution_count": 51,
   "id": "adverse-person",
   "metadata": {},
   "outputs": [
    {
     "name": "stdout",
     "output_type": "stream",
     "text": [
      "D a t a   S c i e n c e "
     ]
    }
   ],
   "source": [
    "for i in sampl_str: \n",
    "    print(i, end = \" \")"
   ]
  },
  {
   "cell_type": "markdown",
   "id": "distant-index",
   "metadata": {},
   "source": [
    "### 練習問題 1-2"
   ]
  },
  {
   "cell_type": "code",
   "execution_count": 52,
   "id": "sitting-boundary",
   "metadata": {},
   "outputs": [
    {
     "name": "stdout",
     "output_type": "stream",
     "text": [
      "1275\n"
     ]
    }
   ],
   "source": [
    "s = 0\n",
    "for x in range(1, 51): \n",
    "    s += x            # s = s + x でも可\n",
    "print(s)"
   ]
  },
  {
   "cell_type": "code",
   "execution_count": 53,
   "id": "lightweight-artist",
   "metadata": {},
   "outputs": [
    {
     "name": "stdout",
     "output_type": "stream",
     "text": [
      "1275\n"
     ]
    }
   ],
   "source": [
    "print(sum(range(1, 51)))"
   ]
  },
  {
   "cell_type": "code",
   "execution_count": 54,
   "id": "rural-fiber",
   "metadata": {},
   "outputs": [
    {
     "name": "stdout",
     "output_type": "stream",
     "text": [
      "1275\n"
     ]
    }
   ],
   "source": [
    "print(sum(x for x in range(1, 51)))"
   ]
  },
  {
   "cell_type": "markdown",
   "id": "infectious-recorder",
   "metadata": {},
   "source": [
    "## 1-2-6 クラスとインスタンス"
   ]
  },
  {
   "cell_type": "code",
   "execution_count": 55,
   "id": "consecutive-knitting",
   "metadata": {},
   "outputs": [
    {
     "name": "stdout",
     "output_type": "stream",
     "text": [
      "10 100\n"
     ]
    }
   ],
   "source": [
    "# PrintClassクラスの作成とprint_meメソッド（関数）の作成\n",
    "class PrintClass: \n",
    "    def print_me(self): \n",
    "        print(self.x, self.y)\n",
    "        \n",
    "# インスタンスの作成，生成\n",
    "p1 = PrintClass()\n",
    "\n",
    "#属性の値を代入\n",
    "p1.x = 10\n",
    "p1.y = 100\n",
    "p1.z = 1000\n",
    "\n",
    "# メソッドの呼び出し\n",
    "p1.print_me()"
   ]
  },
  {
   "cell_type": "code",
   "execution_count": 56,
   "id": "trying-jefferson",
   "metadata": {},
   "outputs": [
    {
     "data": {
      "text/plain": [
       "1000"
      ]
     },
     "execution_count": 56,
     "metadata": {},
     "output_type": "execute_result"
    }
   ],
   "source": [
    "p1.z"
   ]
  },
  {
   "cell_type": "code",
   "execution_count": 57,
   "id": "north-virus",
   "metadata": {},
   "outputs": [],
   "source": [
    "class MyCalcClass: \n",
    "    \n",
    "    # コンストラクタ：オブジェクト生成時に呼び出される特殊な関数，初期化など\n",
    "    def __init__(self, x, y): \n",
    "        self.x = x\n",
    "        self.y = y\n",
    "        \n",
    "    def calc_add1(self, a, b): \n",
    "        return a + b\n",
    "    \n",
    "    def calc_add2(self): \n",
    "        return self.x + self.y\n",
    "    \n",
    "    def calc_mutli(self, a, b): \n",
    "        return a * b\n",
    "    \n",
    "    def calc_print(self, a): \n",
    "        print('data:{0}:yの値{1}'.format(a, self.y))"
   ]
  },
  {
   "cell_type": "code",
   "execution_count": 58,
   "id": "surprised-injury",
   "metadata": {},
   "outputs": [],
   "source": [
    "instance_1 = MyCalcClass(1, 2)\n",
    "instance_2 = MyCalcClass(5, 10)"
   ]
  },
  {
   "cell_type": "code",
   "execution_count": 59,
   "id": "frequent-lingerie",
   "metadata": {},
   "outputs": [
    {
     "name": "stdout",
     "output_type": "stream",
     "text": [
      "2つの数の足し算（新たに数字を引数としてセット）:  8\n",
      "2つの数の足し算（インスタンス化の時の値）:  3\n",
      "2つの数のかけ算:  15\n",
      "data:5:yの値2\n"
     ]
    }
   ],
   "source": [
    "print('2つの数の足し算（新たに数字を引数としてセット）: ', instance_1.calc_add1(5, 3))\n",
    "print('2つの数の足し算（インスタンス化の時の値）: ', instance_1.calc_add2())\n",
    "print('2つの数のかけ算: ', instance_1.calc_mutli(5, 3))\n",
    "instance_1.calc_print(5)"
   ]
  },
  {
   "cell_type": "code",
   "execution_count": 60,
   "id": "serial-plymouth",
   "metadata": {},
   "outputs": [
    {
     "name": "stdout",
     "output_type": "stream",
     "text": [
      "2つの数の足し算（新たに数字を引数としてセット）:  13\n",
      "2つの数の足し算（インスタンス化の時の値）:  15\n",
      "2つの数のかけ算:  12\n",
      "data:20:yの値10\n"
     ]
    }
   ],
   "source": [
    "print('2つの数の足し算（新たに数字を引数としてセット）: ', instance_2.calc_add1(10, 3))\n",
    "print('2つの数の足し算（インスタンス化の時の値）: ', instance_2.calc_add2())\n",
    "print('2つの数のかけ算: ', instance_2.calc_mutli(4, 3))\n",
    "instance_2.calc_print(20)"
   ]
  },
  {
   "cell_type": "code",
   "execution_count": null,
   "id": "velvet-estate",
   "metadata": {},
   "outputs": [],
   "source": []
  }
 ],
 "metadata": {
  "kernelspec": {
   "display_name": "Python 3",
   "language": "python",
   "name": "python3"
  },
  "language_info": {
   "codemirror_mode": {
    "name": "ipython",
    "version": 3
   },
   "file_extension": ".py",
   "mimetype": "text/x-python",
   "name": "python",
   "nbconvert_exporter": "python",
   "pygments_lexer": "ipython3",
   "version": "3.9.14"
  }
 },
 "nbformat": 4,
 "nbformat_minor": 5
}
