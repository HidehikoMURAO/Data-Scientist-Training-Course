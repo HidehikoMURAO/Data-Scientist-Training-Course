{
 "cells": [
  {
   "cell_type": "markdown",
   "id": "outdoor-reputation",
   "metadata": {},
   "source": [
    "## 2-1 データ分析で使うライブラリ"
   ]
  },
  {
   "cell_type": "code",
   "execution_count": 1,
   "id": "legendary-preserve",
   "metadata": {},
   "outputs": [],
   "source": [
    "import numpy as np"
   ]
  },
  {
   "cell_type": "code",
   "execution_count": 2,
   "id": "adjacent-dryer",
   "metadata": {},
   "outputs": [],
   "source": [
    "from numpy import random"
   ]
  },
  {
   "cell_type": "code",
   "execution_count": 3,
   "id": "missing-mumbai",
   "metadata": {},
   "outputs": [
    {
     "data": {
      "text/plain": [
       "'%.3f'"
      ]
     },
     "execution_count": 3,
     "metadata": {},
     "output_type": "execute_result"
    }
   ],
   "source": [
    "# 以下のライブラリを使うので，あらかじめ読み込んでおいて下さい\n",
    "import numpy as np\n",
    "import numpy.random as random\n",
    "import scipy as sp\n",
    "import pandas as pd\n",
    "from pandas import Series, DataFrame\n",
    "\n",
    "# 可視化ライブラリ\n",
    "import matplotlib.pyplot as plt\n",
    "import matplotlib as mpl\n",
    "import seaborn as sns\n",
    "%matplotlib inline\n",
    "\n",
    "# 小数点第3位まで表示\n",
    "%precision 3"
   ]
  },
  {
   "cell_type": "markdown",
   "id": "surgical-fisher",
   "metadata": {},
   "source": [
    "## 2-2 Numpyの基礎"
   ]
  },
  {
   "cell_type": "markdown",
   "id": "brutal-running",
   "metadata": {},
   "source": [
    "### Numpyのインポート"
   ]
  },
  {
   "cell_type": "code",
   "execution_count": 4,
   "id": "therapeutic-remainder",
   "metadata": {},
   "outputs": [
    {
     "data": {
      "text/plain": [
       "'%.3f'"
      ]
     },
     "execution_count": 4,
     "metadata": {},
     "output_type": "execute_result"
    }
   ],
   "source": [
    "# Numpy ライブラリの読み込み\n",
    "import numpy as np\n",
    "\n",
    "# 少数第3位までという意味\n",
    "%precision 3"
   ]
  },
  {
   "cell_type": "markdown",
   "id": "narrative-employee",
   "metadata": {},
   "source": [
    "### 配列操作"
   ]
  },
  {
   "cell_type": "markdown",
   "id": "original-grain",
   "metadata": {},
   "source": [
    "### 配列"
   ]
  },
  {
   "cell_type": "code",
   "execution_count": 5,
   "id": "english-caribbean",
   "metadata": {},
   "outputs": [
    {
     "data": {
      "text/plain": [
       "array([ 9,  2,  3,  4, 10,  6,  7,  8,  1,  5])"
      ]
     },
     "execution_count": 5,
     "metadata": {},
     "output_type": "execute_result"
    }
   ],
   "source": [
    "# 配列の作成\n",
    "data = np.array([9, 2, 3, 4, 10, 6, 7, 8, 1, 5])\n",
    "data"
   ]
  },
  {
   "cell_type": "markdown",
   "id": "informed-deficit",
   "metadata": {},
   "source": [
    "### データ型"
   ]
  },
  {
   "cell_type": "code",
   "execution_count": 6,
   "id": "broadband-croatia",
   "metadata": {},
   "outputs": [
    {
     "data": {
      "text/plain": [
       "dtype('int64')"
      ]
     },
     "execution_count": 6,
     "metadata": {},
     "output_type": "execute_result"
    }
   ],
   "source": [
    "# データの数\n",
    "data.dtype  # data. と入力した後に'tab'キーを押すと変数が持っているプロパティやメソッドの一覧が表示される"
   ]
  },
  {
   "cell_type": "markdown",
   "id": "seven-apollo",
   "metadata": {},
   "source": [
    "### 次元数と要素数"
   ]
  },
  {
   "cell_type": "code",
   "execution_count": 7,
   "id": "committed-easter",
   "metadata": {},
   "outputs": [
    {
     "name": "stdout",
     "output_type": "stream",
     "text": [
      "次元数:  1\n",
      "要素数:  10\n"
     ]
    }
   ],
   "source": [
    "print('次元数: ', data.ndim)\n",
    "print('要素数: ', data.size)"
   ]
  },
  {
   "cell_type": "markdown",
   "id": "communist-needle",
   "metadata": {},
   "source": [
    "### すべての要素に対する計算"
   ]
  },
  {
   "cell_type": "code",
   "execution_count": 8,
   "id": "textile-warren",
   "metadata": {},
   "outputs": [
    {
     "data": {
      "text/plain": [
       "array([18,  4,  6,  8, 20, 12, 14, 16,  2, 10])"
      ]
     },
     "execution_count": 8,
     "metadata": {},
     "output_type": "execute_result"
    }
   ],
   "source": [
    "# それぞれの数字を係数倍（ここでは2倍）\n",
    "data * 2"
   ]
  },
  {
   "cell_type": "code",
   "execution_count": 9,
   "id": "available-strain",
   "metadata": {},
   "outputs": [
    {
     "name": "stdout",
     "output_type": "stream",
     "text": [
      "掛け算:  [10 18 24 28 30 30 28 24 18 10]\n",
      "累乗:  [  1   4   9  16  25  36  49  64  81 100]\n",
      "割り算:  [ 0.1    0.222  0.375  0.571  0.833  1.2    1.75   2.667  4.5   10.   ]\n"
     ]
    }
   ],
   "source": [
    "# それぞれの要素同士での演算\n",
    "print('掛け算: ', np.array([1, 2, 3, 4, 5, 6, 7, 8, 9, 10]) * np.array([10, 9, 8, 7, 6, 5, 4, 3, 2, 1]))\n",
    "print('累乗: ', np.array([1, 2, 3, 4, 5, 6, 7, 8, 9, 10]) ** 2)\n",
    "print('割り算: ', np.array([1, 2, 3, 4, 5, 6, 7, 8, 9, 10]) / np.array([10, 9, 8, 7, 6, 5, 4, 3, 2, 1]))"
   ]
  },
  {
   "cell_type": "markdown",
   "id": "fewer-parallel",
   "metadata": {},
   "source": [
    "### 並べ替え（ソート）"
   ]
  },
  {
   "cell_type": "code",
   "execution_count": 10,
   "id": "stone-peoples",
   "metadata": {},
   "outputs": [
    {
     "name": "stdout",
     "output_type": "stream",
     "text": [
      "そのまま:  [ 9  2  3  4 10  6  7  8  1  5]\n",
      "ソート後:  [ 1  2  3  4  5  6  7  8  9 10]\n"
     ]
    }
   ],
   "source": [
    "# 現在の値を表示\n",
    "print('そのまま: ', data)\n",
    "\n",
    "# ソートした結果を表示\n",
    "data.sort()\n",
    "print('ソート後: ', data)"
   ]
  },
  {
   "cell_type": "code",
   "execution_count": 11,
   "id": "bearing-carol",
   "metadata": {},
   "outputs": [
    {
     "name": "stdout",
     "output_type": "stream",
     "text": [
      "[ 1  2  3  4  5  6  7  8  9 10]\n"
     ]
    }
   ],
   "source": [
    "print(data)"
   ]
  },
  {
   "cell_type": "code",
   "execution_count": 12,
   "id": "unavailable-palmer",
   "metadata": {},
   "outputs": [
    {
     "name": "stdout",
     "output_type": "stream",
     "text": [
      "ソート後:  [10  9  8  7  6  5  4  3  2  1]\n"
     ]
    }
   ],
   "source": [
    "data[::-1].sort()\n",
    "print('ソート後: ', data)"
   ]
  },
  {
   "cell_type": "markdown",
   "id": "affected-observation",
   "metadata": {},
   "source": [
    "### 最小，最大，合計，積上の計算"
   ]
  },
  {
   "cell_type": "code",
   "execution_count": 13,
   "id": "noticed-concept",
   "metadata": {},
   "outputs": [
    {
     "name": "stdout",
     "output_type": "stream",
     "text": [
      "Min:  1\n",
      "Max:  10\n",
      "Sum:  55\n",
      "Cum:  [10 19 27 34 40 45 49 52 54 55]\n",
      "Ratio:  [0.182 0.345 0.491 0.618 0.727 0.818 0.891 0.945 0.982 1.   ]\n"
     ]
    }
   ],
   "source": [
    "# 最小値\n",
    "print('Min: ', data.min())\n",
    "\n",
    "# 最大値\n",
    "print('Max: ', data.max())\n",
    "\n",
    "# 合計\n",
    "print('Sum: ', data.sum())\n",
    "\n",
    "# 積み上げ\n",
    "print('Cum: ', data.cumsum())\n",
    "\n",
    "# 積み上げ割合\n",
    "print('Ratio: ', data.cumsum() / data.sum())"
   ]
  },
  {
   "cell_type": "markdown",
   "id": "jewish-corps",
   "metadata": {},
   "source": [
    "### 乱数"
   ]
  },
  {
   "cell_type": "code",
   "execution_count": 14,
   "id": "superior-aberdeen",
   "metadata": {},
   "outputs": [],
   "source": [
    "import numpy.random as random"
   ]
  },
  {
   "cell_type": "code",
   "execution_count": 15,
   "id": "lyric-sheffield",
   "metadata": {},
   "outputs": [],
   "source": [
    "random.seed(0)"
   ]
  },
  {
   "cell_type": "markdown",
   "id": "formed-dialogue",
   "metadata": {},
   "source": [
    "### 乱数の発生"
   ]
  },
  {
   "cell_type": "code",
   "execution_count": 16,
   "id": "miniature-verse",
   "metadata": {},
   "outputs": [
    {
     "name": "stdout",
     "output_type": "stream",
     "text": [
      "乱数10個の発生:  [ 1.764  0.4    0.979  2.241  1.868 -0.977  0.95  -0.151 -0.103  0.411]\n"
     ]
    }
   ],
   "source": [
    "random.seed(0)\n",
    "\n",
    "# 正規分布（平均 0，分散 1）の乱数を10個発生\n",
    "rnd_data = random.randn(10)\n",
    "\n",
    "print('乱数10個の発生: ', rnd_data)"
   ]
  },
  {
   "cell_type": "markdown",
   "id": "widespread-alignment",
   "metadata": {},
   "source": [
    "### データのランダムな抽出"
   ]
  },
  {
   "cell_type": "code",
   "execution_count": 17,
   "id": "innocent-invention",
   "metadata": {},
   "outputs": [
    {
     "name": "stdout",
     "output_type": "stream",
     "text": [
      "[ 7  8  8  1  2  6  5  1  5 10]\n",
      "[10  2  7  8  3  1  6  5  9  4]\n"
     ]
    }
   ],
   "source": [
    "# 抽出対象データ\n",
    "data = np.array([9, 2, 3, 4, 10, 6, 7, 8, 1, 5])\n",
    "\n",
    "# ランダム抽出\n",
    "# 10個を抽出（重複あり，復元抽出）\n",
    "print(random.choice(data, 10))\n",
    "\n",
    "# 10個を抽出（重複なし，非復元抽出）\n",
    "print(random.choice(data, 10, replace = False))"
   ]
  },
  {
   "cell_type": "markdown",
   "id": "parental-florist",
   "metadata": {},
   "source": [
    "### Numpyは高速"
   ]
  },
  {
   "cell_type": "code",
   "execution_count": 18,
   "id": "ahead-travel",
   "metadata": {},
   "outputs": [
    {
     "name": "stdout",
     "output_type": "stream",
     "text": [
      "3.99 ms ± 18.7 µs per loop (mean ± std. dev. of 7 runs, 100 loops each)\n",
      "390 µs ± 2.02 µs per loop (mean ± std. dev. of 7 runs, 1000 loops each)\n"
     ]
    }
   ],
   "source": [
    "# Nは乱数の発生数，10の6乗\n",
    "N = 10 ** 6\n",
    "\n",
    "normal_data = [random.random() for _ in range(N)]\n",
    "\n",
    "# Numpy版\n",
    "numpy_random_data = np.array(normal_data)\n",
    "\n",
    "# calc time: 合計値\n",
    "# 普通の処理\n",
    "%timeit sum(normal_data)\n",
    "\n",
    "# Numpyを使った処理\n",
    "%timeit np.sum(numpy_random_data)"
   ]
  },
  {
   "cell_type": "markdown",
   "id": "curious-education",
   "metadata": {},
   "source": [
    "### 行列"
   ]
  },
  {
   "cell_type": "code",
   "execution_count": 19,
   "id": "neural-european",
   "metadata": {},
   "outputs": [
    {
     "data": {
      "text/plain": [
       "array([0, 1, 2, 3, 4, 5, 6, 7, 8])"
      ]
     },
     "execution_count": 19,
     "metadata": {},
     "output_type": "execute_result"
    }
   ],
   "source": [
    "np.arange(9)"
   ]
  },
  {
   "cell_type": "code",
   "execution_count": 20,
   "id": "common-thanks",
   "metadata": {},
   "outputs": [
    {
     "name": "stdout",
     "output_type": "stream",
     "text": [
      "[[0 1 2]\n",
      " [3 4 5]\n",
      " [6 7 8]]\n"
     ]
    }
   ],
   "source": [
    "array1 = np.arange(9).reshape(3, 3)\n",
    "print(array1)"
   ]
  },
  {
   "cell_type": "code",
   "execution_count": 21,
   "id": "considered-perspective",
   "metadata": {},
   "outputs": [
    {
     "data": {
      "text/plain": [
       "array([0, 1, 2])"
      ]
     },
     "execution_count": 21,
     "metadata": {},
     "output_type": "execute_result"
    }
   ],
   "source": [
    "# 1行目\n",
    "array1[0, :]"
   ]
  },
  {
   "cell_type": "code",
   "execution_count": 22,
   "id": "corrected-manner",
   "metadata": {},
   "outputs": [
    {
     "data": {
      "text/plain": [
       "array([0, 3, 6])"
      ]
     },
     "execution_count": 22,
     "metadata": {},
     "output_type": "execute_result"
    }
   ],
   "source": [
    "# 1列目\n",
    "array1[:, 0]"
   ]
  },
  {
   "cell_type": "markdown",
   "id": "neural-rhythm",
   "metadata": {},
   "source": [
    "### 行列の演算"
   ]
  },
  {
   "cell_type": "code",
   "execution_count": 23,
   "id": "basic-diversity",
   "metadata": {},
   "outputs": [
    {
     "name": "stdout",
     "output_type": "stream",
     "text": [
      "[[ 9 10 11]\n",
      " [12 13 14]\n",
      " [15 16 17]]\n"
     ]
    }
   ],
   "source": [
    "array2 = np.arange(9, 18).reshape(3, 3)\n",
    "print(array2)"
   ]
  },
  {
   "cell_type": "code",
   "execution_count": 24,
   "id": "pharmaceutical-philip",
   "metadata": {},
   "outputs": [
    {
     "data": {
      "text/plain": [
       "array([[ 42,  45,  48],\n",
       "       [150, 162, 174],\n",
       "       [258, 279, 300]])"
      ]
     },
     "execution_count": 24,
     "metadata": {},
     "output_type": "execute_result"
    }
   ],
   "source": [
    "# 行列の積\n",
    "np.dot(array1, array2)"
   ]
  },
  {
   "cell_type": "code",
   "execution_count": 25,
   "id": "loved-cleaners",
   "metadata": {},
   "outputs": [
    {
     "data": {
      "text/plain": [
       "array([[  0,  10,  22],\n",
       "       [ 36,  52,  70],\n",
       "       [ 90, 112, 136]])"
      ]
     },
     "execution_count": 25,
     "metadata": {},
     "output_type": "execute_result"
    }
   ],
   "source": [
    "# 要素同士の積（それぞれの要素の掛け算になる）\n",
    "array1 * array2"
   ]
  },
  {
   "cell_type": "markdown",
   "id": "golden-armenia",
   "metadata": {},
   "source": [
    "### 要素が 0 や 1 の行列を作る"
   ]
  },
  {
   "cell_type": "code",
   "execution_count": 26,
   "id": "metropolitan-morning",
   "metadata": {},
   "outputs": [
    {
     "name": "stdout",
     "output_type": "stream",
     "text": [
      "[[0 0 0]\n",
      " [0 0 0]]\n",
      "[[1. 1. 1.]\n",
      " [1. 1. 1.]]\n"
     ]
    }
   ],
   "source": [
    "print(np.zeros((2, 3), dtype = np.int64))\n",
    "print(np.ones((2, 3), dtype = np.float64))"
   ]
  },
  {
   "cell_type": "markdown",
   "id": "provincial-muslim",
   "metadata": {},
   "source": [
    "### 練習問題 2-1"
   ]
  },
  {
   "cell_type": "code",
   "execution_count": null,
   "id": "completed-mining",
   "metadata": {},
   "outputs": [],
   "source": []
  },
  {
   "cell_type": "markdown",
   "id": "graphic-vienna",
   "metadata": {},
   "source": [
    "### 練習問題 2-2"
   ]
  },
  {
   "cell_type": "code",
   "execution_count": null,
   "id": "outstanding-continent",
   "metadata": {},
   "outputs": [],
   "source": []
  },
  {
   "cell_type": "markdown",
   "id": "upper-collect",
   "metadata": {},
   "source": [
    "### 練習問題 2-3"
   ]
  },
  {
   "cell_type": "code",
   "execution_count": null,
   "id": "intensive-statistics",
   "metadata": {},
   "outputs": [],
   "source": []
  },
  {
   "cell_type": "markdown",
   "id": "exterior-arbor",
   "metadata": {},
   "source": [
    "## 2-3 Scipyの基礎"
   ]
  },
  {
   "cell_type": "code",
   "execution_count": null,
   "id": "imperial-processor",
   "metadata": {},
   "outputs": [],
   "source": []
  }
 ],
 "metadata": {
  "kernelspec": {
   "display_name": "Python 3",
   "language": "python",
   "name": "python3"
  },
  "language_info": {
   "codemirror_mode": {
    "name": "ipython",
    "version": 3
   },
   "file_extension": ".py",
   "mimetype": "text/x-python",
   "name": "python",
   "nbconvert_exporter": "python",
   "pygments_lexer": "ipython3",
   "version": "3.9.5"
  }
 },
 "nbformat": 4,
 "nbformat_minor": 5
}
