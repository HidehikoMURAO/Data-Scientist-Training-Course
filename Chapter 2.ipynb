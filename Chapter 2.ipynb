{
 "cells": [
  {
   "cell_type": "markdown",
   "id": "outdoor-reputation",
   "metadata": {},
   "source": [
    "## 2-1 データ分析で使うライブラリ"
   ]
  },
  {
   "cell_type": "code",
   "execution_count": 1,
   "id": "legendary-preserve",
   "metadata": {},
   "outputs": [],
   "source": [
    "import numpy as np"
   ]
  },
  {
   "cell_type": "code",
   "execution_count": 2,
   "id": "adjacent-dryer",
   "metadata": {},
   "outputs": [],
   "source": [
    "from numpy import random"
   ]
  },
  {
   "cell_type": "code",
   "execution_count": 3,
   "id": "missing-mumbai",
   "metadata": {},
   "outputs": [
    {
     "data": {
      "text/plain": [
       "'%.3f'"
      ]
     },
     "execution_count": 3,
     "metadata": {},
     "output_type": "execute_result"
    }
   ],
   "source": [
    "# 以下のライブラリを使うので，あらかじめ読み込んでおいて下さい\n",
    "import numpy as np\n",
    "import numpy.random as random\n",
    "import scipy as sp\n",
    "import pandas as pd\n",
    "from pandas import Series, DataFrame\n",
    "\n",
    "# 可視化ライブラリ\n",
    "import matplotlib.pyplot as plt\n",
    "import matplotlib as mpl\n",
    "import seaborn as sns\n",
    "%matplotlib inline\n",
    "\n",
    "# 小数点第3位まで表示\n",
    "%precision 3"
   ]
  },
  {
   "cell_type": "markdown",
   "id": "surgical-fisher",
   "metadata": {},
   "source": [
    "## Numpyの基礎"
   ]
  },
  {
   "cell_type": "markdown",
   "id": "brutal-running",
   "metadata": {},
   "source": [
    "### Numpyのインポート"
   ]
  },
  {
   "cell_type": "code",
   "execution_count": 4,
   "id": "therapeutic-remainder",
   "metadata": {},
   "outputs": [
    {
     "data": {
      "text/plain": [
       "'%.3f'"
      ]
     },
     "execution_count": 4,
     "metadata": {},
     "output_type": "execute_result"
    }
   ],
   "source": [
    "# Numpy ライブラリの読み込み\n",
    "import numpy as np\n",
    "\n",
    "# 少数第3位までという意味\n",
    "%precision 3"
   ]
  },
  {
   "cell_type": "markdown",
   "id": "narrative-employee",
   "metadata": {},
   "source": [
    "### 配列操作"
   ]
  },
  {
   "cell_type": "markdown",
   "id": "original-grain",
   "metadata": {},
   "source": [
    "### 配列"
   ]
  },
  {
   "cell_type": "code",
   "execution_count": 5,
   "id": "english-caribbean",
   "metadata": {},
   "outputs": [
    {
     "data": {
      "text/plain": [
       "array([ 9,  2,  3,  4, 10,  6,  7,  8,  1,  5])"
      ]
     },
     "execution_count": 5,
     "metadata": {},
     "output_type": "execute_result"
    }
   ],
   "source": [
    "# 配列の作成\n",
    "data = np.array([9, 2, 3, 4, 10, 6, 7, 8, 1, 5])\n",
    "data"
   ]
  },
  {
   "cell_type": "markdown",
   "id": "informed-deficit",
   "metadata": {},
   "source": [
    "### データ型"
   ]
  },
  {
   "cell_type": "code",
   "execution_count": 7,
   "id": "broadband-croatia",
   "metadata": {},
   "outputs": [
    {
     "data": {
      "text/plain": [
       "dtype('int64')"
      ]
     },
     "execution_count": 7,
     "metadata": {},
     "output_type": "execute_result"
    }
   ],
   "source": [
    "# データの数\n",
    "data.dtype  # data. と入力した後に'tab'キーを押すと変数が持っているプロパティやメソッドの一覧が表示される"
   ]
  },
  {
   "cell_type": "markdown",
   "id": "seven-apollo",
   "metadata": {},
   "source": [
    "### 次元数と要素数"
   ]
  },
  {
   "cell_type": "code",
   "execution_count": 8,
   "id": "committed-easter",
   "metadata": {},
   "outputs": [
    {
     "name": "stdout",
     "output_type": "stream",
     "text": [
      "次元数:  1\n",
      "要素数:  10\n"
     ]
    }
   ],
   "source": [
    "print('次元数: ', data.ndim)\n",
    "print('要素数: ', data.size)"
   ]
  },
  {
   "cell_type": "code",
   "execution_count": null,
   "id": "awful-smoke",
   "metadata": {},
   "outputs": [],
   "source": []
  }
 ],
 "metadata": {
  "kernelspec": {
   "display_name": "Python 3",
   "language": "python",
   "name": "python3"
  },
  "language_info": {
   "codemirror_mode": {
    "name": "ipython",
    "version": 3
   },
   "file_extension": ".py",
   "mimetype": "text/x-python",
   "name": "python",
   "nbconvert_exporter": "python",
   "pygments_lexer": "ipython3",
   "version": "3.9.5"
  }
 },
 "nbformat": 4,
 "nbformat_minor": 5
}
